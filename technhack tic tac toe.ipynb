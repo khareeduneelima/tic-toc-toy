{
 "cells": [
  {
   "cell_type": "code",
   "execution_count": null,
   "id": "b9c1f0f1-1559-4a15-ab0b-03cae0f42858",
   "metadata": {},
   "outputs": [],
   "source": []
  },
  {
   "cell_type": "code",
   "execution_count": 2,
   "id": "e79b10ce-96e1-4d99-a066-0ce73e9c3ff2",
   "metadata": {},
   "outputs": [
    {
     "name": "stdout",
     "output_type": "stream",
     "text": [
      "Let's play Tic Tac Toe!\n",
      " | | \n",
      "-----\n",
      " | | \n",
      "-----\n",
      " | | \n",
      "-----\n"
     ]
    },
    {
     "name": "stdin",
     "output_type": "stream",
     "text": [
      "Enter the row (1, 2, or 3) for X:  1\n",
      "Enter the column (1, 2, or 3) for X:  1\n"
     ]
    },
    {
     "name": "stdout",
     "output_type": "stream",
     "text": [
      "X| | \n",
      "-----\n",
      " | | \n",
      "-----\n",
      " | | \n",
      "-----\n",
      "Computer plays at row 1 and column 3.\n",
      "X| |O\n",
      "-----\n",
      " | | \n",
      "-----\n",
      " | | \n",
      "-----\n"
     ]
    },
    {
     "name": "stdin",
     "output_type": "stream",
     "text": [
      "Enter the row (1, 2, or 3) for X:  2\n",
      "Enter the column (1, 2, or 3) for X:  1\n"
     ]
    },
    {
     "name": "stdout",
     "output_type": "stream",
     "text": [
      "X| |O\n",
      "-----\n",
      "X| | \n",
      "-----\n",
      " | | \n",
      "-----\n",
      "Computer plays at row 2 and column 3.\n",
      "X| |O\n",
      "-----\n",
      "X| |O\n",
      "-----\n",
      " | | \n",
      "-----\n"
     ]
    },
    {
     "name": "stdin",
     "output_type": "stream",
     "text": [
      "Enter the row (1, 2, or 3) for X:  3\n",
      "Enter the column (1, 2, or 3) for X:  1\n"
     ]
    },
    {
     "name": "stdout",
     "output_type": "stream",
     "text": [
      "X| |O\n",
      "-----\n",
      "X| |O\n",
      "-----\n",
      "X| | \n",
      "-----\n",
      "Congratulations! You win!\n"
     ]
    }
   ],
   "source": [
    "import random\n",
    "\n",
    "def print_board(board):\n",
    "    for row in board:\n",
    "        print(\"|\".join(row))\n",
    "        print(\"-----\")\n",
    "\n",
    "def check_winner(board, player):\n",
    "    # Check rows and columns\n",
    "    for i in range(3):\n",
    "        if all(board[i][j] == player for j in range(3)) or all(board[j][i] == player for j in range(3)):\n",
    "            return True\n",
    "\n",
    "    # Check diagonals\n",
    "    if all(board[i][i] == player for i in range(3)) or all(board[i][2 - i] == player for i in range(3)):\n",
    "        return True\n",
    "\n",
    "    return False\n",
    "\n",
    "def is_board_full(board):\n",
    "    return all(cell != \" \" for row in board for cell in row)\n",
    "\n",
    "def player_move(board, player):\n",
    "    while True:\n",
    "        try:\n",
    "            row = int(input(f\"Enter the row (1, 2, or 3) for {player}: \")) - 1\n",
    "            col = int(input(f\"Enter the column (1, 2, or 3) for {player}: \")) - 1\n",
    "\n",
    "            if board[row][col] == \" \":\n",
    "                board[row][col] = player\n",
    "                break\n",
    "            else:\n",
    "                print(\"Cell already taken. Try again.\")\n",
    "        except (ValueError, IndexError):\n",
    "            print(\"Invalid input. Please enter a number between 1 and 3.\")\n",
    "\n",
    "def computer_move(board):\n",
    "    while True:\n",
    "        row = random.randint(0, 2)\n",
    "        col = random.randint(0, 2)\n",
    "        if board[row][col] == \" \":\n",
    "            return row, col\n",
    "\n",
    "def play_tic_tac_toe():\n",
    "    board = [[\" \" for _ in range(3)] for _ in range(3)]\n",
    "    players = [\"X\", \"O\"]\n",
    "    current_player = players[0]\n",
    "\n",
    "    print(\"Let's play Tic Tac Toe!\")\n",
    "    print_board(board)\n",
    "\n",
    "    while True:\n",
    "        if current_player == \"X\":\n",
    "            player_move(board, current_player)\n",
    "        else:\n",
    "            row, col = computer_move(board)\n",
    "            print(f\"Computer plays at row {row+1} and column {col+1}.\")\n",
    "            board[row][col] = current_player\n",
    "\n",
    "        print_board(board)\n",
    "\n",
    "        if check_winner(board, current_player):\n",
    "            if current_player == \"X\":\n",
    "                print(\"Congratulations! You win!\")\n",
    "            else:\n",
    "                print(\"Computer wins!\")\n",
    "            break\n",
    "        elif is_board_full(board):\n",
    "            print(\"It's a tie!\")\n",
    "            break\n",
    "\n",
    "        current_player = players[1] if current_player == players[0] else players[0]\n",
    "\n",
    "if __name__ == \"__main__\":\n",
    "    play_tic_tac_toe()\n"
   ]
  }
 ],
 "metadata": {
  "kernelspec": {
   "display_name": "Python 3 (ipykernel)",
   "language": "python",
   "name": "python3"
  },
  "language_info": {
   "codemirror_mode": {
    "name": "ipython",
    "version": 3
   },
   "file_extension": ".py",
   "mimetype": "text/x-python",
   "name": "python",
   "nbconvert_exporter": "python",
   "pygments_lexer": "ipython3",
   "version": "3.12.0"
  }
 },
 "nbformat": 4,
 "nbformat_minor": 5
}
